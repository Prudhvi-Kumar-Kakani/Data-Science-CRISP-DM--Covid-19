{
 "cells": [
  {
   "cell_type": "code",
   "execution_count": 1,
   "metadata": {},
   "outputs": [],
   "source": [
    "import pandas as pd\n",
    "import numpy as np\n",
    "\n",
    "from datetime import datetime\n",
    "import pandas as pd \n",
    "\n",
    "from scipy import optimize\n",
    "from scipy import integrate\n",
    "\n",
    "%matplotlib inline\n",
    "import matplotlib as mpl\n",
    "import matplotlib.pyplot as plt\n",
    "\n",
    "import seaborn as sns\n",
    "\n",
    "\n",
    "sns.set(style=\"darkgrid\")\n",
    "\n",
    "mpl.rcParams['figure.figsize'] = (16, 9)\n",
    "pd.set_option('display.max_rows', 500)"
   ]
  },
  {
   "cell_type": "code",
   "execution_count": 2,
   "metadata": {},
   "outputs": [
    {
     "data": {
      "text/plain": [
       "'C:\\\\Users\\\\Pramod\\\\Downloads\\\\eds\\\\notebooks'"
      ]
     },
     "execution_count": 2,
     "metadata": {},
     "output_type": "execute_result"
    }
   ],
   "source": [
    "import os\n",
    "os.getcwd()"
   ]
  },
  {
   "cell_type": "code",
   "execution_count": 3,
   "metadata": {},
   "outputs": [
    {
     "data": {
      "text/html": [
       "<div>\n",
       "<style scoped>\n",
       "    .dataframe tbody tr th:only-of-type {\n",
       "        vertical-align: middle;\n",
       "    }\n",
       "\n",
       "    .dataframe tbody tr th {\n",
       "        vertical-align: top;\n",
       "    }\n",
       "\n",
       "    .dataframe thead th {\n",
       "        text-align: right;\n",
       "    }\n",
       "</style>\n",
       "<table border=\"1\" class=\"dataframe\">\n",
       "  <thead>\n",
       "    <tr style=\"text-align: right;\">\n",
       "      <th></th>\n",
       "      <th>date</th>\n",
       "      <th>Germany</th>\n",
       "      <th>India</th>\n",
       "      <th>US</th>\n",
       "      <th>Brazil</th>\n",
       "      <th>United Kingdom</th>\n",
       "    </tr>\n",
       "  </thead>\n",
       "  <tbody>\n",
       "    <tr>\n",
       "      <th>0</th>\n",
       "      <td>2020-01-22</td>\n",
       "      <td>0</td>\n",
       "      <td>0</td>\n",
       "      <td>1</td>\n",
       "      <td>0</td>\n",
       "      <td>0</td>\n",
       "    </tr>\n",
       "    <tr>\n",
       "      <th>1</th>\n",
       "      <td>2020-01-23</td>\n",
       "      <td>0</td>\n",
       "      <td>0</td>\n",
       "      <td>1</td>\n",
       "      <td>0</td>\n",
       "      <td>0</td>\n",
       "    </tr>\n",
       "    <tr>\n",
       "      <th>2</th>\n",
       "      <td>2020-01-24</td>\n",
       "      <td>0</td>\n",
       "      <td>0</td>\n",
       "      <td>2</td>\n",
       "      <td>0</td>\n",
       "      <td>0</td>\n",
       "    </tr>\n",
       "    <tr>\n",
       "      <th>3</th>\n",
       "      <td>2020-01-25</td>\n",
       "      <td>0</td>\n",
       "      <td>0</td>\n",
       "      <td>2</td>\n",
       "      <td>0</td>\n",
       "      <td>0</td>\n",
       "    </tr>\n",
       "    <tr>\n",
       "      <th>4</th>\n",
       "      <td>2020-01-26</td>\n",
       "      <td>0</td>\n",
       "      <td>0</td>\n",
       "      <td>5</td>\n",
       "      <td>0</td>\n",
       "      <td>0</td>\n",
       "    </tr>\n",
       "  </tbody>\n",
       "</table>\n",
       "</div>"
      ],
      "text/plain": [
       "         date  Germany  India  US  Brazil  United Kingdom\n",
       "0  2020-01-22        0      0   1       0               0\n",
       "1  2020-01-23        0      0   1       0               0\n",
       "2  2020-01-24        0      0   2       0               0\n",
       "3  2020-01-25        0      0   2       0               0\n",
       "4  2020-01-26        0      0   5       0               0"
      ]
     },
     "execution_count": 3,
     "metadata": {},
     "output_type": "execute_result"
    }
   ],
   "source": [
    "df_analyse=pd.read_csv('../data/processed/COVID_small_table_confirmed.csv',sep=';')  \n",
    "df_analyse.sort_values('date',ascending=True).head()"
   ]
  },
  {
   "cell_type": "code",
   "execution_count": 4,
   "metadata": {},
   "outputs": [],
   "source": [
    "# set some basic parameters\n",
    "# beta/gamma is denoted as  'basic reproduction number'\n",
    "\n",
    "N0=1000000 #max susceptible population\n",
    "beta=0.4   # infection spread dynamics\n",
    "gamma=0.1  # recovery rate\n",
    "\n",
    "\n",
    "# condition I0+S0+R0=N0\n",
    "I0=df_analyse.India[35]\n",
    "S0=N0-I0\n",
    "R0=0"
   ]
  },
  {
   "cell_type": "code",
   "execution_count": 5,
   "metadata": {},
   "outputs": [],
   "source": [
    "def SIR_model(SIR,beta,gamma):\n",
    "    ''' Simple SIR model\n",
    "        S: susceptible population\n",
    "        I: infected people\n",
    "        R: recovered people\n",
    "        beta: \n",
    "        \n",
    "        overall condition is that the sum of changes (differnces) sum up to 0\n",
    "        dS+dI+dR=0\n",
    "        S+I+R= N (constant size of population)\n",
    "    \n",
    "    '''\n",
    "    \n",
    "    S,I,R=SIR\n",
    "    dS_dt=-beta*S*I/N0          #S*I is the \n",
    "    dI_dt=beta*S*I/N0-gamma*I\n",
    "    dR_dt=gamma*I\n",
    "    return([dS_dt,dI_dt,dR_dt])"
   ]
  },
  {
   "cell_type": "code",
   "execution_count": 30,
   "metadata": {},
   "outputs": [],
   "source": [
    "SIR=np.array([S0,I0,R0])\n",
    "propagation_rates=pd.DataFrame(columns={'susceptible':S0,\n",
    "                                        'infected':I0,\n",
    "                                        'recoverd':R0})\n",
    "\n",
    "\n",
    "\n",
    "for each_t in np.arange(100):\n",
    "   \n",
    "    new_delta_vec=SIR_model(SIR,beta,gamma)\n",
    "   \n",
    "    SIR=SIR+new_delta_vec\n",
    "    propagation_rates=propagation_rates.append({'susceptible':SIR[0],\n",
    "                                                'infected':SIR[1],\n",
    "                                                'recovered':SIR[2]}, ignore_index=True)"
   ]
  },
  {
   "cell_type": "code",
   "execution_count": 31,
   "metadata": {},
   "outputs": [
    {
     "data": {
      "image/png": "[encoded data removed]",
      "text/plain": [
       "<Figure size 432x288 with 1 Axes>"
      ]
     },
     "metadata": {
      "needs_background": "light"
     },
     "output_type": "display_data"
    }
   ],
   "source": [
    "fig, ax1 = plt.subplots(1, 1)\n",
    "\n",
    "ax1.plot(propagation_rates.index,propagation_rates.infected,label='infected',color='k')\n",
    "ax1.plot(propagation_rates.index,propagation_rates.recovered,label='recovered')\n",
    "ax1.plot(propagation_rates.index,propagation_rates.susceptible,label='susceptible')\n",
    "\n",
    "ax1.set_ylim(10, 1000000)\n",
    "ax1.set_yscale('linear')\n",
    "ax1.set_title('Szenario SIR simulations  (demonstration purposes only)',size=16)\n",
    "ax1.set_xlabel('time in days',size=16)\n",
    "ax1.legend(loc='best',\n",
    "           prop={'size': 16});"
   ]
  },
  {
   "cell_type": "markdown",
   "metadata": {},
   "source": [
    "## Fitting the parameters of SIR model"
   ]
  },
  {
   "cell_type": "code",
   "execution_count": 10,
   "metadata": {},
   "outputs": [],
   "source": [
    "# set some basic parameters\n",
    "# beta/gamma is denoted as  'basic reproduction number'\n",
    "\n",
    "N0=10000000 #max susceptible population\n",
    "beta=1.4   # infection spread dynamics\n",
    "gamma=10.5  # recovery rate\n",
    "\n",
    "\n",
    "# condition I0+S0+R0=N0\n",
    "I0=df_analyse.India[52]\n",
    "S0=N0-I0\n",
    "R0=0"
   ]
  },
  {
   "cell_type": "code",
   "execution_count": 11,
   "metadata": {},
   "outputs": [
    {
     "data": {
      "text/plain": [
       "array([  0,   1,   2,   3,   4,   5,   6,   7,   8,   9,  10,  11,  12,\n",
       "        13,  14,  15,  16,  17,  18,  19,  20,  21,  22,  23,  24,  25,\n",
       "        26,  27,  28,  29,  30,  31,  32,  33,  34,  35,  36,  37,  38,\n",
       "        39,  40,  41,  42,  43,  44,  45,  46,  47,  48,  49,  50,  51,\n",
       "        52,  53,  54,  55,  56,  57,  58,  59,  60,  61,  62,  63,  64,\n",
       "        65,  66,  67,  68,  69,  70,  71,  72,  73,  74,  75,  76,  77,\n",
       "        78,  79,  80,  81,  82,  83,  84,  85,  86,  87,  88,  89,  90,\n",
       "        91,  92,  93,  94,  95,  96,  97,  98,  99, 100, 101, 102, 103,\n",
       "       104, 105, 106, 107, 108, 109, 110, 111, 112, 113, 114, 115, 116,\n",
       "       117, 118, 119, 120, 121, 122, 123, 124, 125, 126, 127, 128, 129,\n",
       "       130, 131, 132, 133, 134, 135, 136, 137, 138, 139, 140, 141, 142,\n",
       "       143, 144, 145, 146, 147, 148, 149, 150, 151, 152])"
      ]
     },
     "execution_count": 11,
     "metadata": {},
     "output_type": "execute_result"
    }
   ],
   "source": [
    "ydata = np.array(df_analyse.India[52:])\n",
    "t=np.arange(0, len(ydata))\n",
    "t"
   ]
  },
  {
   "cell_type": "code",
   "execution_count": 12,
   "metadata": {},
   "outputs": [
    {
     "data": {
      "text/plain": [
       "array([    102,     113,     119,     142,     156,     194,     244,\n",
       "           330,     396,     499,     536,     657,     727,     887,\n",
       "           987,    1024,    1251,    1397,    1998,    2543,    2567,\n",
       "          3082,    3588,    4778,    5311,    5916,    6725,    7598,\n",
       "          8446,    9205,   10453,   11487,   12322,   13430,   14352,\n",
       "         15722,   17615,   18539,   20080,   21370,   23077,   24530,\n",
       "         26283,   27890,   29451,   31324,   33062,   34863,   37257,\n",
       "         39699,   42505,   46437,   49400,   52987,   56351,   59695,\n",
       "         62808,   67161,   70768,   74292,   78055,   81997,   85784,\n",
       "         90648,   95698,  100328,  106475,  112028,  118226,  124794,\n",
       "        131423,  138536,  144950,  150793,  158086,  165386,  173491,\n",
       "        181827,  190609,  198370,  207191,  216824,  226713,  236184,\n",
       "        246622,  257486,  265928,  276146,  286605,  297535,  308993,\n",
       "        320922,  332424,  343091,  354065,  366946,  380532,  395048,\n",
       "        410451,  425282,  440215,  456183,  473105,  490401,  508953,\n",
       "        528859,  548318,  566840,  585481,  604641,  625544,  648315,\n",
       "        673165,  697413,  719664,  742417,  767296,  793802,  820916,\n",
       "        849522,  878254,  906752,  936181,  968857, 1003832, 1039084,\n",
       "       1077781, 1118206, 1155338, 1193078, 1238798, 1288108, 1337024,\n",
       "       1385635, 1435616, 1480073, 1531669, 1581963, 1634746, 1695988,\n",
       "       1750723, 1803695, 1855745, 1908254, 1964536, 2027074, 2088611,\n",
       "       2153010, 2215074, 2268675, 2329638, 2396637, 2461190], dtype=int64)"
      ]
     },
     "execution_count": 12,
     "metadata": {},
     "output_type": "execute_result"
    }
   ],
   "source": [
    "ydata"
   ]
  },
  {
   "cell_type": "code",
   "execution_count": 13,
   "metadata": {},
   "outputs": [
    {
     "data": {
      "text/plain": [
       "1.4"
      ]
     },
     "execution_count": 13,
     "metadata": {},
     "output_type": "execute_result"
    }
   ],
   "source": [
    "# ensure re-initialization \n",
    "I0=ydata[0]\n",
    "S0=N0-I0\n",
    "R0=0\n",
    "beta"
   ]
  },
  {
   "cell_type": "code",
   "execution_count": 14,
   "metadata": {},
   "outputs": [],
   "source": [
    "def SIR_model_t(SIR,t,beta,gamma):\n",
    "    ''' Simple SIR model\n",
    "        S: susceptible population\n",
    "        t: time step, mandatory for integral.odeint\n",
    "        I: infected people\n",
    "        R: recovered people\n",
    "        beta: \n",
    "        \n",
    "        overall condition is that the sum of changes (differnces) sum up to 0\n",
    "        dS+dI+dR=0\n",
    "        S+I+R= N (constant size of population)\n",
    "    \n",
    "    '''\n",
    "    \n",
    "    S,I,R=SIR\n",
    "    dS_dt=-beta*S*I/N0          #S*I is the \n",
    "    dI_dt=beta*S*I/N0-gamma*I\n",
    "    dR_dt=gamma*I\n",
    "    return dS_dt,dI_dt,dR_dt"
   ]
  },
  {
   "cell_type": "code",
   "execution_count": 15,
   "metadata": {},
   "outputs": [],
   "source": [
    "def fit_odeint(x, beta, gamma):\n",
    "    '''\n",
    "    helper function for the integration\n",
    "    '''\n",
    "    return integrate.odeint(SIR_model_t, (S0, I0, R0), x, args=(beta, gamma))[:,1] # we only would like to get dI\n"
   ]
  },
  {
   "cell_type": "code",
   "execution_count": 16,
   "metadata": {},
   "outputs": [
    {
     "data": {
      "text/plain": [
       "array([ 1.02000000e+02,  1.18812745e+01,  1.38396614e+00,  1.61208469e-01,\n",
       "        1.87780420e-02,  2.18732238e-03,  2.54785023e-04,  2.96788772e-05,\n",
       "        3.45683076e-06,  4.02970296e-07,  4.64315365e-08,  5.60180993e-09,\n",
       "        7.01464178e-10, -3.60636618e-10, -3.31990492e-10, -2.71518603e-10,\n",
       "       -1.12791139e-10, -3.82615883e-11, -3.58533055e-11, -3.34450227e-11,\n",
       "       -3.10367399e-11, -2.86284571e-11, -2.62201743e-11, -2.38118915e-11,\n",
       "       -2.14036086e-11, -1.89953258e-11, -1.65870430e-11, -1.41787602e-11,\n",
       "       -1.17704774e-11, -9.36219461e-12, -6.95391181e-12, -4.54562900e-12,\n",
       "       -2.13734619e-12, -1.07966383e-12, -1.00961359e-12, -9.39563339e-13,\n",
       "       -8.69513092e-13, -7.99462844e-13, -7.29412596e-13, -6.59362349e-13,\n",
       "       -5.89312101e-13, -5.19261854e-13, -4.49211606e-13, -3.79161359e-13,\n",
       "       -3.09111111e-13, -2.39060864e-13, -1.69010616e-13, -9.89603686e-14,\n",
       "       -3.25703831e-14, -3.23611491e-14, -3.21519152e-14, -3.19426813e-14,\n",
       "       -3.17334474e-14, -3.15242135e-14, -3.13149796e-14, -3.11057457e-14,\n",
       "       -3.08965118e-14, -3.06872779e-14, -3.04780439e-14, -3.02688100e-14,\n",
       "       -3.00595761e-14, -2.98503422e-14, -2.96411083e-14, -2.94318744e-14,\n",
       "       -2.92226405e-14, -2.90134066e-14, -2.88041727e-14, -2.85949388e-14,\n",
       "       -2.83857048e-14, -2.81764709e-14, -2.79672370e-14, -2.77580031e-14,\n",
       "       -2.75487692e-14, -2.73395353e-14, -2.71303014e-14, -2.69210675e-14,\n",
       "       -2.67118336e-14, -2.65025997e-14, -2.62933657e-14, -2.60841318e-14,\n",
       "       -2.58748979e-14, -2.56656640e-14, -2.54564301e-14, -2.52471962e-14,\n",
       "       -2.50379623e-14, -2.48287284e-14, -2.46194945e-14, -2.44102606e-14,\n",
       "       -2.42010266e-14, -2.39917927e-14, -2.37825588e-14, -2.35733249e-14,\n",
       "       -2.33640910e-14, -2.31548571e-14, -2.29456232e-14, -2.27363893e-14,\n",
       "       -2.25271554e-14, -2.23179215e-14, -2.21086875e-14, -2.18994536e-14,\n",
       "       -2.16902197e-14, -2.14809858e-14, -2.12717519e-14, -2.10625180e-14,\n",
       "       -2.08532841e-14, -2.06440502e-14, -2.04348163e-14, -2.02255823e-14,\n",
       "       -2.00163484e-14, -1.98071145e-14, -1.95978806e-14, -1.93886467e-14,\n",
       "       -1.91794128e-14, -1.89701789e-14, -1.87609450e-14, -1.85517111e-14,\n",
       "       -1.83424772e-14, -1.81332432e-14, -1.79240093e-14, -1.77147754e-14,\n",
       "       -1.75055415e-14, -1.72963076e-14, -1.70870737e-14, -1.68778398e-14,\n",
       "       -1.66686059e-14, -1.64593720e-14, -1.62501381e-14, -1.60409041e-14,\n",
       "       -1.58316702e-14, -1.56224363e-14, -1.54132024e-14, -1.52039685e-14,\n",
       "       -1.49947346e-14, -1.47855007e-14, -1.45762668e-14, -1.43670329e-14,\n",
       "       -1.41577990e-14, -1.39485650e-14, -1.37393311e-14, -1.35300972e-14,\n",
       "       -1.33208633e-14, -1.31116294e-14, -1.29023955e-14, -1.26931616e-14,\n",
       "       -1.24839277e-14, -1.22746938e-14, -1.20654599e-14, -1.18562259e-14,\n",
       "       -1.16469920e-14, -1.14377581e-14, -1.12285242e-14, -1.10192903e-14,\n",
       "       -1.08100564e-14])"
      ]
     },
     "execution_count": 16,
     "metadata": {},
     "output_type": "execute_result"
    }
   ],
   "source": [
    "# example curve of our differential equationa\n",
    "# popt=[1.75,0.675]\n",
    "popt=[0.75,2.9]\n",
    "fit_odeint(t, *popt)"
   ]
  },
  {
   "cell_type": "code",
   "execution_count": 17,
   "metadata": {},
   "outputs": [],
   "source": [
    "\n",
    "# the resulting curve has to be fitted\n",
    "# free parameters are here beta and gamma"
   ]
  },
  {
   "cell_type": "code",
   "execution_count": 29,
   "metadata": {},
   "outputs": [
    {
     "name": "stderr",
     "output_type": "stream",
     "text": [
      "D:\\anaconda\\lib\\site-packages\\ipykernel_launcher.py:16: RuntimeWarning: overflow encountered in double_scalars\n",
      "  app.launch_new_instance()\n",
      "D:\\anaconda\\lib\\site-packages\\ipykernel_launcher.py:17: RuntimeWarning: overflow encountered in double_scalars\n",
      "D:\\anaconda\\lib\\site-packages\\ipykernel_launcher.py:18: RuntimeWarning: overflow encountered in double_scalars\n"
     ]
    },
    {
     "name": "stdout",
     "output_type": "stream",
     "text": [
      "standard deviation errors :  [0.00165187 0.00141708]  start infect: 102\n",
      "Optimal parameters: beta = 0.13295011703063292  and gamma =  0.05563220529416131\n"
     ]
    }
   ],
   "source": [
    "\n",
    "popt, pcov = optimize.curve_fit(fit_odeint, t, ydata, maxfev = 4000)\n",
    "perr = np.sqrt(np.diag(pcov))\n",
    "    \n",
    "print('standard deviation errors : ',str(perr), ' start infect:',ydata[0])\n",
    "print(\"Optimal parameters: beta =\", popt[0], \" and gamma = \", popt[1])"
   ]
  },
  {
   "cell_type": "code",
   "execution_count": 26,
   "metadata": {},
   "outputs": [],
   "source": [
    "# get the final fitted curve\n",
    "# popt = [0.35, 0.4]\n",
    "# popt = popt.tolist()\n",
    "fitted=fit_odeint(t, *popt)"
   ]
  },
  {
   "cell_type": "code",
   "execution_count": 27,
   "metadata": {},
   "outputs": [
    {
     "data": {
      "image/png": "[encoded data removed]",
      "text/plain": [
       "<Figure size 432x288 with 1 Axes>"
      ]
     },
     "metadata": {
      "needs_background": "light"
     },
     "output_type": "display_data"
    },
    {
     "name": "stdout",
     "output_type": "stream",
     "text": [
      "Optimal parameters: beta = 0.13295011703063292  and gamma =  0.05563220529416131\n",
      "Basic Reproduction Number R0  2.3898049039696483\n",
      "This ratio is derived as the expected number of new infections (these new infections are sometimes called secondary infections from a single infection in a population where all subjects are susceptible. @wiki\n"
     ]
    }
   ],
   "source": [
    "plt.semilogy(t, ydata, 'o')\n",
    "plt.semilogy(t, fitted)\n",
    "plt.title(\"Fit of SIR model for Germany cases\")\n",
    "plt.ylabel(\"Population infected\")\n",
    "plt.xlabel(\"Days\")\n",
    "plt.show()\n",
    "print(\"Optimal parameters: beta =\", popt[0], \" and gamma = \", popt[1])\n",
    "print(\"Basic Reproduction Number R0 \" , popt[0]/ popt[1])\n",
    "print(\"This ratio is derived as the expected number of new infections (these new infections are sometimes called secondary infections from a single infection in a population where all subjects are susceptible. @wiki\")"
   ]
  },
  {
   "cell_type": "markdown",
   "metadata": {},
   "source": [
    "## Dynamic beta in SIR (infection rate)"
   ]
  },
  {
   "cell_type": "code",
   "execution_count": 21,
   "metadata": {},
   "outputs": [],
   "source": [
    "t_initial=14\n",
    "t_intro_measures=21\n",
    "t_hold=72\n",
    "t_relax=48\n",
    "\n",
    "beta_max=  0.4  # 0.325\n",
    "beta_min=0.11\n",
    "gamma=0.095 # 0.045\n",
    "pd_beta=np.concatenate((np.array(t_initial*[beta_max]),\n",
    "                       np.linspace(beta_max,beta_min,t_intro_measures),\n",
    "                       np.array(t_hold*[beta_min]),\n",
    "                        np.linspace(beta_min,beta_max,t_relax),\n",
    "                       ))"
   ]
  },
  {
   "cell_type": "code",
   "execution_count": 22,
   "metadata": {},
   "outputs": [
    {
     "data": {
      "text/plain": [
       "array([0.4       , 0.4       , 0.4       , 0.4       , 0.4       ,\n",
       "       0.4       , 0.4       , 0.4       , 0.4       , 0.4       ,\n",
       "       0.4       , 0.4       , 0.4       , 0.4       , 0.4       ,\n",
       "       0.3855    , 0.371     , 0.3565    , 0.342     , 0.3275    ,\n",
       "       0.313     , 0.2985    , 0.284     , 0.2695    , 0.255     ,\n",
       "       0.2405    , 0.226     , 0.2115    , 0.197     , 0.1825    ,\n",
       "       0.168     , 0.1535    , 0.139     , 0.1245    , 0.11      ,\n",
       "       0.11      , 0.11      , 0.11      , 0.11      , 0.11      ,\n",
       "       0.11      , 0.11      , 0.11      , 0.11      , 0.11      ,\n",
       "       0.11      , 0.11      , 0.11      , 0.11      , 0.11      ,\n",
       "       0.11      , 0.11      , 0.11      , 0.11      , 0.11      ,\n",
       "       0.11      , 0.11      , 0.11      , 0.11      , 0.11      ,\n",
       "       0.11      , 0.11      , 0.11      , 0.11      , 0.11      ,\n",
       "       0.11      , 0.11      , 0.11      , 0.11      , 0.11      ,\n",
       "       0.11      , 0.11      , 0.11      , 0.11      , 0.11      ,\n",
       "       0.11      , 0.11      , 0.11      , 0.11      , 0.11      ,\n",
       "       0.11      , 0.11      , 0.11      , 0.11      , 0.11      ,\n",
       "       0.11      , 0.11      , 0.11      , 0.11      , 0.11      ,\n",
       "       0.11      , 0.11      , 0.11      , 0.11      , 0.11      ,\n",
       "       0.11      , 0.11      , 0.11      , 0.11      , 0.11      ,\n",
       "       0.11      , 0.11      , 0.11      , 0.11      , 0.11      ,\n",
       "       0.11      , 0.11      , 0.11      , 0.11617021, 0.12234043,\n",
       "       0.12851064, 0.13468085, 0.14085106, 0.14702128, 0.15319149,\n",
       "       0.1593617 , 0.16553191, 0.17170213, 0.17787234, 0.18404255,\n",
       "       0.19021277, 0.19638298, 0.20255319, 0.2087234 , 0.21489362,\n",
       "       0.22106383, 0.22723404, 0.23340426, 0.23957447, 0.24574468,\n",
       "       0.25191489, 0.25808511, 0.26425532, 0.27042553, 0.27659574,\n",
       "       0.28276596, 0.28893617, 0.29510638, 0.3012766 , 0.30744681,\n",
       "       0.31361702, 0.31978723, 0.32595745, 0.33212766, 0.33829787,\n",
       "       0.34446809, 0.3506383 , 0.35680851, 0.36297872, 0.36914894,\n",
       "       0.37531915, 0.38148936, 0.38765957, 0.39382979, 0.4       ])"
      ]
     },
     "execution_count": 22,
     "metadata": {},
     "output_type": "execute_result"
    }
   ],
   "source": [
    "pd_beta"
   ]
  },
  {
   "cell_type": "code",
   "execution_count": 23,
   "metadata": {},
   "outputs": [],
   "source": [
    "SIR=np.array([S0,I0,R0])\n",
    "propagation_rates=pd.DataFrame(columns={'susceptible':S0,\n",
    "                                        'infected':I0,\n",
    "                                        'recoverd':R0})\n",
    "\n",
    "\n",
    "\n",
    "for each_beta in pd_beta:\n",
    "   \n",
    "    new_delta_vec=SIR_model(SIR,each_beta,gamma)\n",
    "   \n",
    "    SIR=SIR+new_delta_vec\n",
    "    \n",
    "    propagation_rates=propagation_rates.append({'susceptible':SIR[0],\n",
    "                                                'infected':SIR[1],\n",
    "                                                'recovered':SIR[2]}, ignore_index=True)"
   ]
  },
  {
   "cell_type": "code",
   "execution_count": 24,
   "metadata": {},
   "outputs": [
    {
     "data": {
      "image/png": "[encoded data removed]",
      "text/plain": [
       "<Figure size 432x288 with 1 Axes>"
      ]
     },
     "metadata": {
      "needs_background": "light"
     },
     "output_type": "display_data"
    }
   ],
   "source": [
    "fig, ax1 = plt.subplots(1, 1)\n",
    "\n",
    "ax1.plot(propagation_rates.index,propagation_rates.infected,label='infected',linewidth=3)\n",
    "\n",
    "t_phases=np.array([t_initial,t_intro_measures,t_hold,t_relax]).cumsum()\n",
    "ax1.bar(np.arange(len(ydata)),ydata, width=0.8,label=' current infected India',color='r')\n",
    "ax1.axvspan(0,t_phases[0], facecolor='b', alpha=0.2,label='no measures')\n",
    "ax1.axvspan(t_phases[0],t_phases[1], facecolor='b', alpha=0.3,label='hard measures introduced')\n",
    "ax1.axvspan(t_phases[1],t_phases[2], facecolor='b', alpha=0.4,label='hold measures')\n",
    "ax1.axvspan(t_phases[2],t_phases[3], facecolor='g', alpha=0.5,label='relax measures')\n",
    "ax1.axvspan(t_phases[3],len(propagation_rates.infected), facecolor='b', alpha=0.6,label='repeat hard measures')\n",
    "\n",
    "ax1.set_ylim(10, 1.5*max(propagation_rates.infected))\n",
    "ax1.set_yscale('log')\n",
    "ax1.set_title('Scenario SIR simulations  (demonstration purposes only)',size=16)\n",
    "ax1.set_xlabel('time in days',size=16)\n",
    "ax1.legend(loc='best',\n",
    "           prop={'size': 16});"
   ]
  },
  {
   "cell_type": "code",
   "execution_count": null,
   "metadata": {},
   "outputs": [],
   "source": []
  },
  {
   "cell_type": "code",
   "execution_count": null,
   "metadata": {},
   "outputs": [],
   "source": []
  }
 ],
 "metadata": {
  "kernelspec": {
   "display_name": "Python 3",
   "language": "python",
   "name": "python3"
  },
  "language_info": {
   "codemirror_mode": {
    "name": "ipython",
    "version": 3
   },
   "file_extension": ".py",
   "mimetype": "text/x-python",
   "name": "python",
   "nbconvert_exporter": "python",
   "pygments_lexer": "ipython3",
   "version": "3.7.3"
  }
 },
 "nbformat": 4,
 "nbformat_minor": 2
}
