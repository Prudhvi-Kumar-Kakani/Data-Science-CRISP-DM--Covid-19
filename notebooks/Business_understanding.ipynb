{
 "cells": [
  {
   "cell_type": "markdown",
   "metadata": {},
   "source": [
    "## CRISP-DM"
   ]
  },
  {
   "cell_type": "markdown",
   "metadata": {},
   "source": [
    "![CRISP_DM](../reports/figures/CRISP_DM.png)"
   ]
  },
  {
   "cell_type": "markdown",
   "metadata": {},
   "source": [
    "# Business understanding"
   ]
  },
  {
   "cell_type": "markdown",
   "metadata": {},
   "source": [
    "##### Objective\n",
    "\n",
    "- Tracking the COVID-19 infected cases of different countries with available personal local information.\n",
    "- Looking deep into infection cases and understanding the spread of the disease.\n",
    "- Implementation of a visualization dashboard for the infection cases.\n",
    "- To understand disease spread, develop a dynamic dashboard of COVID-19 spread with mathematical model i.e. SIR model.\n",
    "![title](../reports/figures/SIR_model.png)"
   ]
  },
  {
   "cell_type": "markdown",
   "metadata": {},
   "source": [
    "##### Assess the situation\n",
    "\n",
    "- Acquiring data from a information website which is reliable source of information.\n",
    "- Processing the required data is most essential and converting to required format is next step.\n",
    "- Data of some countries might be inaccurate which is challenging"
   ]
  },
  {
   "cell_type": "markdown",
   "metadata": {},
   "source": [
    "##### Goals of the project\n",
    "\n",
    "- Develop a COVID-19 visualization dashboard with processed tracking results of the spread.\n",
    "- Develop a dynamic dashboard with a mathematical simulation model i.e. SIR model for the Spread."
   ]
  },
  {
   "cell_type": "markdown",
   "metadata": {},
   "source": [
    "##### Project plan\n",
    "- Understand, process and clean the data. Then save the processed data in .csv format\n",
    "- Smooth the processed, calaculate the doubling rate for each country.\n",
    "- Create a visual board for the processed data and doubling rate.\n",
    "- Create a SIR model with processed data and dynamic visual board of it."
   ]
  },
  {
   "cell_type": "code",
   "execution_count": null,
   "metadata": {},
   "outputs": [],
   "source": []
  },
  {
   "cell_type": "code",
   "execution_count": null,
   "metadata": {},
   "outputs": [],
   "source": []
  }
 ],
 "metadata": {
  "kernelspec": {
   "display_name": "Python 3",
   "language": "python",
   "name": "python3"
  },
  "language_info": {
   "codemirror_mode": {
    "name": "ipython",
    "version": 3
   },
   "file_extension": ".py",
   "mimetype": "text/x-python",
   "name": "python",
   "nbconvert_exporter": "python",
   "pygments_lexer": "ipython3",
   "version": "3.7.6"
  }
 },
 "nbformat": 4,
 "nbformat_minor": 2
}
